{
  "nbformat": 4,
  "nbformat_minor": 0,
  "metadata": {
    "colab": {
      "name": "assignment_10.ipynb",
      "provenance": [],
      "collapsed_sections": []
    },
    "kernelspec": {
      "name": "python3",
      "display_name": "Python 3"
    }
  },
  "cells": [
    {
      "cell_type": "markdown",
      "metadata": {
        "id": "2yHmyOg1ZVB4",
        "colab_type": "text"
      },
      "source": [
        "1.Program to get the largest and smallest number from a list."
      ]
    },
    {
      "cell_type": "code",
      "metadata": {
        "id": "f453ELFLZKd8",
        "colab_type": "code",
        "colab": {
          "base_uri": "https://localhost:8080/",
          "height": 68
        },
        "outputId": "da5485af-49e7-4d97-f849-214d7a4ad52b"
      },
      "source": [
        "list = [10,40,60,100,50,70]\n",
        "print(\"The given list is:\",list)\n",
        "print(\"Largest number in the list is\",max(list))\n",
        "print(\"Smallest number in the list:\",min(list))"
      ],
      "execution_count": 1,
      "outputs": [
        {
          "output_type": "stream",
          "text": [
            "The given list is: [10, 40, 60, 100, 50, 70]\n",
            "Largest number in the list is 100\n",
            "Smallest number in the list: 10\n"
          ],
          "name": "stdout"
        }
      ]
    },
    {
      "cell_type": "markdown",
      "metadata": {
        "id": "mnngrW1kZl8b",
        "colab_type": "text"
      },
      "source": [
        "2.Program to remove duplicate elements from a list."
      ]
    },
    {
      "cell_type": "code",
      "metadata": {
        "id": "ABHCMLM1ZmDV",
        "colab_type": "code",
        "colab": {
          "base_uri": "https://localhost:8080/",
          "height": 34
        },
        "outputId": "f72b1dad-6ea9-49e4-ded1-e25435b89a2c"
      },
      "source": [
        "list1 = [1,2,2,3,3,3,4,4,4,4,5,5,5]\n",
        "list2 = []\n",
        "\n",
        "for item in list1:\n",
        "    if item not in list2:\n",
        "        list2.append(item)\n",
        "print(\"New list:\",list2)"
      ],
      "execution_count": 2,
      "outputs": [
        {
          "output_type": "stream",
          "text": [
            "New list: [1, 2, 3, 4, 5]\n"
          ],
          "name": "stdout"
        }
      ]
    },
    {
      "cell_type": "markdown",
      "metadata": {
        "id": "5MSpWb6_ZsFJ",
        "colab_type": "text"
      },
      "source": [
        "3.Program to check if the list is empty or not."
      ]
    },
    {
      "cell_type": "code",
      "metadata": {
        "id": "ZWAsN8qFZsOa",
        "colab_type": "code",
        "colab": {
          "base_uri": "https://localhost:8080/",
          "height": 51
        },
        "outputId": "304f95ba-dd22-45a5-e1f6-a06566c1161f"
      },
      "source": [
        "list1 = [1,2,3,4,5,6]\n",
        "list2 = []\n",
        "if list1 == []:\n",
        "    print(\"True\")\n",
        "else:\n",
        "    print(\"False\")\n",
        "    \n",
        "if list2!=[]:\n",
        "    print(\"False\")\n",
        "else:\n",
        "    print(\"True\")"
      ],
      "execution_count": 3,
      "outputs": [
        {
          "output_type": "stream",
          "text": [
            "False\n",
            "True\n"
          ],
          "name": "stdout"
        }
      ]
    },
    {
      "cell_type": "markdown",
      "metadata": {
        "id": "TuBI6n1vZ0GT",
        "colab_type": "text"
      },
      "source": [
        "4.Program to clone or copy a list."
      ]
    },
    {
      "cell_type": "code",
      "metadata": {
        "id": "YJtmvXhUZ0Oj",
        "colab_type": "code",
        "colab": {
          "base_uri": "https://localhost:8080/",
          "height": 51
        },
        "outputId": "a186214c-f8d7-423e-98fb-5a2c84823dfa"
      },
      "source": [
        "list1=[1,2,3,4,5,6]\n",
        "print(\"Original list:\",list1)\n",
        "list2 = list1.copy()\n",
        "print(\"Copied list:\",list2)"
      ],
      "execution_count": 4,
      "outputs": [
        {
          "output_type": "stream",
          "text": [
            "Original list: [1, 2, 3, 4, 5, 6]\n",
            "Copied list: [1, 2, 3, 4, 5, 6]\n"
          ],
          "name": "stdout"
        }
      ]
    },
    {
      "cell_type": "markdown",
      "metadata": {
        "id": "aF65k93iZ7U1",
        "colab_type": "text"
      },
      "source": [
        "5.Program to print a specified list after removing the 0th, 4th and 5th elements."
      ]
    },
    {
      "cell_type": "code",
      "metadata": {
        "id": "U0j8v5XzZ7ap",
        "colab_type": "code",
        "colab": {
          "base_uri": "https://localhost:8080/",
          "height": 34
        },
        "outputId": "1c7374d1-2e9b-49bb-c1ed-8a78574beccb"
      },
      "source": [
        "list1 = [\"Ramesh\",\"Suresh,\",\"Mahesh\",\"Kamlesh\",\"Mukesh\",\"Bhavesh\"]\n",
        "list1.remove(\"Ramesh\")\n",
        "list1.remove(\"Mukesh\")\n",
        "list1.remove(\"Bhavesh\")\n",
        "print(\"New list:\",list1)"
      ],
      "execution_count": 5,
      "outputs": [
        {
          "output_type": "stream",
          "text": [
            "New list: ['Suresh,', 'Mahesh', 'Kamlesh']\n"
          ],
          "name": "stdout"
        }
      ]
    },
    {
      "cell_type": "markdown",
      "metadata": {
        "id": "OlTzfXwuaCaZ",
        "colab_type": "text"
      },
      "source": [
        "6.Program to print the numbers of a specified list after removing even numbers from it."
      ]
    },
    {
      "cell_type": "code",
      "metadata": {
        "id": "9T8Jg1FmaDml",
        "colab_type": "code",
        "colab": {
          "base_uri": "https://localhost:8080/",
          "height": 34
        },
        "outputId": "bcabfaa7-be2a-495e-a01f-d901e1898376"
      },
      "source": [
        "list1=[1,2,3,4,5,6]\n",
        "for item in list1:\n",
        "    if item%2==0:\n",
        "        list1.remove(item)\n",
        "print(list1)"
      ],
      "execution_count": 8,
      "outputs": [
        {
          "output_type": "stream",
          "text": [
            "[1, 3, 5]\n"
          ],
          "name": "stdout"
        }
      ]
    },
    {
      "cell_type": "markdown",
      "metadata": {
        "id": "m5LW81_xaN0i",
        "colab_type": "text"
      },
      "source": [
        "\n",
        "7.Program to shuffle and print a list."
      ]
    },
    {
      "cell_type": "code",
      "metadata": {
        "id": "W0b6QyVbaJWZ",
        "colab_type": "code",
        "colab": {
          "base_uri": "https://localhost:8080/",
          "height": 34
        },
        "outputId": "128beb3e-536f-44ce-a478-b5f3030db1ca"
      },
      "source": [
        "from random import shuffle\n",
        "list1 = [1,2,3,4,5,6]\n",
        "shuffle(list1)\n",
        "print(\"New list:\",list1)"
      ],
      "execution_count": 9,
      "outputs": [
        {
          "output_type": "stream",
          "text": [
            "New list: [3, 4, 5, 1, 6, 2]\n"
          ],
          "name": "stdout"
        }
      ]
    },
    {
      "cell_type": "markdown",
      "metadata": {
        "id": "Cyf6HJ8-aVHu",
        "colab_type": "text"
      },
      "source": [
        "8.Program to find the difference between two lists."
      ]
    },
    {
      "cell_type": "code",
      "metadata": {
        "id": "3kC5zl3eaVeX",
        "colab_type": "code",
        "colab": {
          "base_uri": "https://localhost:8080/",
          "height": 34
        },
        "outputId": "9e3c2843-89ab-4d2c-8a68-5b9c32c1eb44"
      },
      "source": [
        "list1 = [1,2,3,4,5]\n",
        "list2 = [2,4]\n",
        "list3 = []\n",
        "for item in list1:\n",
        "    if item not in list2:\n",
        "        list3.append(item)\n",
        "print(list3,\"is the difference between given two lists.\")"
      ],
      "execution_count": 7,
      "outputs": [
        {
          "output_type": "stream",
          "text": [
            "[1, 3, 5] is the difference between given two lists.\n"
          ],
          "name": "stdout"
        }
      ]
    }
  ]
}