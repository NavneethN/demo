{
  "nbformat": 4,
  "nbformat_minor": 0,
  "metadata": {
    "colab": {
      "name": "assignment_9.ipynb",
      "provenance": [],
      "collapsed_sections": []
    },
    "kernelspec": {
      "name": "python3",
      "display_name": "Python 3"
    }
  },
  "cells": [
    {
      "cell_type": "markdown",
      "metadata": {
        "id": "K9damO9nX8fX",
        "colab_type": "text"
      },
      "source": [
        "1.Program that prints integers from 1 to 100. But for multiples of 3, print 'Fizz' instead of the number and for the multiples of 5, print 'Buzz'. For numbers which are multiples of both 3 and 5, print 'FizzBuzz'."
      ]
    },
    {
      "cell_type": "code",
      "metadata": {
        "id": "nXHnQnt0YAax",
        "colab_type": "code",
        "colab": {
          "base_uri": "https://localhost:8080/",
          "height": 1000
        },
        "outputId": "c5d7fd3f-d3eb-4a59-8855-a7f74c094508"
      },
      "source": [
        "for i in range(1,101):\n",
        "    if i%3==0 and i%5==0:\n",
        "        i=\"FizzBuzz\"\n",
        "        print(i)\n",
        "    elif i%5==0:\n",
        "        i=\"Buzz\"\n",
        "        print(i)\n",
        "    elif i%3==0:\n",
        "        i=\"Fizz\"\n",
        "        print(i)\n",
        "    else:\n",
        "        print(i)"
      ],
      "execution_count": 1,
      "outputs": [
        {
          "output_type": "stream",
          "text": [
            "1\n",
            "2\n",
            "Fizz\n",
            "4\n",
            "Buzz\n",
            "Fizz\n",
            "7\n",
            "8\n",
            "Fizz\n",
            "Buzz\n",
            "11\n",
            "Fizz\n",
            "13\n",
            "14\n",
            "FizzBuzz\n",
            "16\n",
            "17\n",
            "Fizz\n",
            "19\n",
            "Buzz\n",
            "Fizz\n",
            "22\n",
            "23\n",
            "Fizz\n",
            "Buzz\n",
            "26\n",
            "Fizz\n",
            "28\n",
            "29\n",
            "FizzBuzz\n",
            "31\n",
            "32\n",
            "Fizz\n",
            "34\n",
            "Buzz\n",
            "Fizz\n",
            "37\n",
            "38\n",
            "Fizz\n",
            "Buzz\n",
            "41\n",
            "Fizz\n",
            "43\n",
            "44\n",
            "FizzBuzz\n",
            "46\n",
            "47\n",
            "Fizz\n",
            "49\n",
            "Buzz\n",
            "Fizz\n",
            "52\n",
            "53\n",
            "Fizz\n",
            "Buzz\n",
            "56\n",
            "Fizz\n",
            "58\n",
            "59\n",
            "FizzBuzz\n",
            "61\n",
            "62\n",
            "Fizz\n",
            "64\n",
            "Buzz\n",
            "Fizz\n",
            "67\n",
            "68\n",
            "Fizz\n",
            "Buzz\n",
            "71\n",
            "Fizz\n",
            "73\n",
            "74\n",
            "FizzBuzz\n",
            "76\n",
            "77\n",
            "Fizz\n",
            "79\n",
            "Buzz\n",
            "Fizz\n",
            "82\n",
            "83\n",
            "Fizz\n",
            "Buzz\n",
            "86\n",
            "Fizz\n",
            "88\n",
            "89\n",
            "FizzBuzz\n",
            "91\n",
            "92\n",
            "Fizz\n",
            "94\n",
            "Buzz\n",
            "Fizz\n",
            "97\n",
            "98\n",
            "Fizz\n",
            "Buzz\n"
          ],
          "name": "stdout"
        }
      ]
    },
    {
      "cell_type": "markdown",
      "metadata": {
        "id": "pzoiCOinYF3R",
        "colab_type": "text"
      },
      "source": [
        "2.Program to remove consecutive duplicates from a list."
      ]
    },
    {
      "cell_type": "code",
      "metadata": {
        "id": "6xBBkb_0YLAP",
        "colab_type": "code",
        "colab": {
          "base_uri": "https://localhost:8080/",
          "height": 68
        },
        "outputId": "f8499ecf-40d5-4e62-d077-73ba13d864df"
      },
      "source": [
        "mylist=[1,2,2,3,3,4,4,4,5,5,5,5,5,5,5]\n",
        "pre=None\n",
        "newlist=[]\n",
        "\n",
        "for item in mylist:\n",
        "    if item!=pre:\n",
        "        newlist.append(item)\n",
        "        pre=item\n",
        "print(\"The new list:\\n\")\n",
        "print(newlist)"
      ],
      "execution_count": 2,
      "outputs": [
        {
          "output_type": "stream",
          "text": [
            "The new list:\n",
            "\n",
            "[1, 2, 3, 4, 5]\n"
          ],
          "name": "stdout"
        }
      ]
    },
    {
      "cell_type": "markdown",
      "metadata": {
        "id": "Mw2O4yyXYUvh",
        "colab_type": "text"
      },
      "source": [
        "3.Find unique elements in a list"
      ]
    },
    {
      "cell_type": "code",
      "metadata": {
        "id": "2ObcaT2mYZeb",
        "colab_type": "code",
        "colab": {
          "base_uri": "https://localhost:8080/",
          "height": 34
        },
        "outputId": "7b2e9bb9-2dd4-4b74-f4f3-0292f8aa9d9e"
      },
      "source": [
        "mylist=[1,2,2,3,3,4,4,4,5,5,5,5,5,5,5]\n",
        "newlist=set(mylist)\n",
        "print(list(newlist))"
      ],
      "execution_count": 3,
      "outputs": [
        {
          "output_type": "stream",
          "text": [
            "[1, 2, 3, 4, 5]\n"
          ],
          "name": "stdout"
        }
      ]
    },
    {
      "cell_type": "markdown",
      "metadata": {
        "id": "zSrHtM6YYg8l",
        "colab_type": "text"
      },
      "source": [
        "4.Function that checks if a number is in the given range or not (inclusive of high and low)."
      ]
    },
    {
      "cell_type": "code",
      "metadata": {
        "id": "yQP9OOWqYi-5",
        "colab_type": "code",
        "colab": {
          "base_uri": "https://localhost:8080/",
          "height": 34
        },
        "outputId": "c49e83d2-883c-40d1-bb70-906584f55483"
      },
      "source": [
        "def check_range(num,start,stop):\n",
        "    if num in range(start,stop+1):\n",
        "        print(num,\"is present in the given range.\")\n",
        "    else:\n",
        "        print(num,\"is not present in the given range.\")\n",
        "check_range(56,1,100)"
      ],
      "execution_count": 4,
      "outputs": [
        {
          "output_type": "stream",
          "text": [
            "56 is present in the given range.\n"
          ],
          "name": "stdout"
        }
      ]
    },
    {
      "cell_type": "markdown",
      "metadata": {
        "id": "F_T8uXPzYo-0",
        "colab_type": "text"
      },
      "source": [
        "5.Function that accepts a string and calculates the number of uppercase and lowercase characters."
      ]
    },
    {
      "cell_type": "code",
      "metadata": {
        "id": "H-LCEB3qYvD9",
        "colab_type": "code",
        "colab": {
          "base_uri": "https://localhost:8080/",
          "height": 51
        },
        "outputId": "b8b0e2b8-36a6-4845-8c25-13b4f284a535"
      },
      "source": [
        "def char_case(string):\n",
        "    lowercase,uppercase,special=0,0,0\n",
        "    for char in string:\n",
        "        if char.isupper():\n",
        "            uppercase+=1\n",
        "        elif char.islower():\n",
        "            lowercase+=1\n",
        "    print(\"Number of uppercase characters=\",uppercase)\n",
        "    print(\"Number of lowercase characters=\",lowercase)\n",
        "char_case(\"Finally Promoted\")"
      ],
      "execution_count": 5,
      "outputs": [
        {
          "output_type": "stream",
          "text": [
            "Number of uppercase characters= 2\n",
            "Number of lowercase characters= 13\n"
          ],
          "name": "stdout"
        }
      ]
    }
  ]
}