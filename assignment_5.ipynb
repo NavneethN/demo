{
  "nbformat": 4,
  "nbformat_minor": 0,
  "metadata": {
    "colab": {
      "name": "assignment 5.ipynb",
      "provenance": [],
      "collapsed_sections": [],
      "authorship_tag": "ABX9TyMSDYqxEEhrF5LoTrQFp/UL",
      "include_colab_link": true
    },
    "kernelspec": {
      "name": "python3",
      "display_name": "Python 3"
    }
  },
  "cells": [
    {
      "cell_type": "markdown",
      "metadata": {
        "id": "view-in-github",
        "colab_type": "text"
      },
      "source": [
        "<a href=\"https://colab.research.google.com/github/NavneethN/demo/blob/master/assignment_5.ipynb\" target=\"_parent\"><img src=\"https://colab.research.google.com/assets/colab-badge.svg\" alt=\"Open In Colab\"/></a>"
      ]
    },
    {
      "cell_type": "markdown",
      "metadata": {
        "id": "2qqybDOYF9AT",
        "colab_type": "text"
      },
      "source": [
        "1.\tWrite a Python program to find area of a circle using math function\n"
      ]
    },
    {
      "cell_type": "code",
      "metadata": {
        "id": "KyP6t6h-F-Ho",
        "colab_type": "code",
        "colab": {
          "base_uri": "https://localhost:8080/",
          "height": 51
        },
        "outputId": "d250a9df-c327-4864-f377-9dde8e657dd5"
      },
      "source": [
        "import math\n",
        "r=int(input(\"Enter the radius\"))\n",
        "area=math.pi*(r**2)\n",
        "print(\"Area of Circle: \"+str(area))"
      ],
      "execution_count": null,
      "outputs": [
        {
          "output_type": "stream",
          "text": [
            "Enter the radius4\n",
            "Area of Circle: 50.26548245743669\n"
          ],
          "name": "stdout"
        }
      ]
    },
    {
      "cell_type": "markdown",
      "metadata": {
        "id": "2OajKHfLHU5T",
        "colab_type": "text"
      },
      "source": [
        "2.\tWrite a program to find Area of Regular Polygon using math function."
      ]
    },
    {
      "cell_type": "code",
      "metadata": {
        "id": "5eJC8M56HbHB",
        "colab_type": "code",
        "colab": {
          "base_uri": "https://localhost:8080/",
          "height": 68
        },
        "outputId": "8d95dd10-7341-45d4-affb-d8af578c96f9"
      },
      "source": [
        "from math import tan,pi\n",
        "n=int(input(\"Enter the no of sides\"))\n",
        "l=int(input(\"Enter the length of side\"))\n",
        "area=(n*(l**2))/(4*tan(pi/n))\n",
        "print(\"Enter the area of regular polygon\"+str(area))"
      ],
      "execution_count": null,
      "outputs": [
        {
          "output_type": "stream",
          "text": [
            "Enter the no of sides4\n",
            "Enter the length of side20\n",
            "Enter the area of regular polygon400.00000000000006\n"
          ],
          "name": "stdout"
        }
      ]
    },
    {
      "cell_type": "markdown",
      "metadata": {
        "id": "GVjpfymhLHVi",
        "colab_type": "text"
      },
      "source": [
        "3.\tWrite a program to find  Area of a Segment of a Circle Formula using math function."
      ]
    },
    {
      "cell_type": "code",
      "metadata": {
        "id": "vQ7JeX_mLIQ2",
        "colab_type": "code",
        "colab": {
          "base_uri": "https://localhost:8080/",
          "height": 68
        },
        "outputId": "c1a61e4c-bd5c-43f7-b8bb-b945809ed62f"
      },
      "source": [
        "from math import sin\n",
        "r=float(input(\"Enter the radius\"))\n",
        "angle=float(input(\"Enter the angle\"))\n",
        "area=0.5*(r**2)*(angle-sin(angle))\n",
        "print(\"The area of a segment of a circle: \"+str(area))\n"
      ],
      "execution_count": null,
      "outputs": [
        {
          "output_type": "stream",
          "text": [
            "Enter the radius2\n",
            "Enter the angle90\n",
            "The area of a segment of a circle: 178.21200667279888\n"
          ],
          "name": "stdout"
        }
      ]
    },
    {
      "cell_type": "markdown",
      "metadata": {
        "id": "2Q3PEex1MR2j",
        "colab_type": "text"
      },
      "source": [
        "4.\tWrite a python program to shuffle list l1=[100,1,2,3,30,40,”hai”,”hello”]."
      ]
    },
    {
      "cell_type": "code",
      "metadata": {
        "id": "dH9lOkH9MYsL",
        "colab_type": "code",
        "colab": {
          "base_uri": "https://localhost:8080/",
          "height": 51
        },
        "outputId": "411e5941-5ed5-4375-ec36-d402c323b8d6"
      },
      "source": [
        "import random\n",
        "l1=[100,1,2,3,30,40,\"hai\",\"hello\"]\n",
        "random.shuffle(l1)\n",
        "print(\"First shuffle list: \"+str(l1))\n",
        "random.shuffle(l1)\n",
        "print(\"Second shuffle list:\"+str(l1))\n",
        "\n"
      ],
      "execution_count": null,
      "outputs": [
        {
          "output_type": "stream",
          "text": [
            "First shuffle list: [2, 30, 3, 'hai', 40, 100, 'hello', 1]\n",
            "Second shuffle list:['hello', 1, 40, 3, 30, 'hai', 100, 2]\n"
          ],
          "name": "stdout"
        }
      ]
    },
    {
      "cell_type": "markdown",
      "metadata": {
        "id": "BNyKnocgQfbM",
        "colab_type": "text"
      },
      "source": [
        "5.\tWrite a program to generate random numbers between 1,10000 and difference between each random number is 50."
      ]
    },
    {
      "cell_type": "code",
      "metadata": {
        "id": "DYf_bEoXSzfL",
        "colab_type": "code",
        "colab": {
          "base_uri": "https://localhost:8080/",
          "height": 34
        },
        "outputId": "ef004f72-b106-4ce2-bf49-d44061422991"
      },
      "source": [
        "import random\n",
        "random.randrange(1,10000,50)"
      ],
      "execution_count": null,
      "outputs": [
        {
          "output_type": "execute_result",
          "data": {
            "text/plain": [
              "4301"
            ]
          },
          "metadata": {
            "tags": []
          },
          "execution_count": 78
        }
      ]
    },
    {
      "cell_type": "markdown",
      "metadata": {
        "id": "AD3s4Rg0VhNz",
        "colab_type": "text"
      },
      "source": [
        "6.\t**Write a python program by using math module to find**\n"
      ]
    },
    {
      "cell_type": "markdown",
      "metadata": {
        "id": "T6L81dB7-U9R",
        "colab_type": "text"
      },
      "source": [
        "        i.  Sin(60)"
      ]
    },
    {
      "cell_type": "code",
      "metadata": {
        "id": "jOGanp5S6kOK",
        "colab_type": "code",
        "colab": {
          "base_uri": "https://localhost:8080/",
          "height": 34
        },
        "outputId": "7f5b7656-cdab-4c3d-dbb3-a8299d096d00"
      },
      "source": [
        "import math\n",
        "math.sin(60)"
      ],
      "execution_count": null,
      "outputs": [
        {
          "output_type": "execute_result",
          "data": {
            "text/plain": [
              "-0.3048106211022167"
            ]
          },
          "metadata": {
            "tags": []
          },
          "execution_count": 6
        }
      ]
    },
    {
      "cell_type": "markdown",
      "metadata": {
        "id": "a7XPUeNlFoav",
        "colab_type": "text"
      },
      "source": [
        "    ii.\tcos(pi)"
      ]
    },
    {
      "cell_type": "code",
      "metadata": {
        "id": "h7IQCcXYFff6",
        "colab_type": "code",
        "colab": {
          "base_uri": "https://localhost:8080/",
          "height": 34
        },
        "outputId": "ce43b7df-861b-4798-a8ce-1976d02b4d5d"
      },
      "source": [
        "math.cos(math.pi)"
      ],
      "execution_count": null,
      "outputs": [
        {
          "output_type": "execute_result",
          "data": {
            "text/plain": [
              "-1.0"
            ]
          },
          "metadata": {
            "tags": []
          },
          "execution_count": 2
        }
      ]
    },
    {
      "cell_type": "markdown",
      "metadata": {
        "id": "0gmZ03kQGuky",
        "colab_type": "text"
      },
      "source": [
        "  iii.\ttan(90)"
      ]
    },
    {
      "cell_type": "code",
      "metadata": {
        "id": "pWcRGGr3G2t7",
        "colab_type": "code",
        "colab": {
          "base_uri": "https://localhost:8080/",
          "height": 34
        },
        "outputId": "345e7efe-31ea-4879-8223-85f9fb73c170"
      },
      "source": [
        "math.tan(90)"
      ],
      "execution_count": null,
      "outputs": [
        {
          "output_type": "execute_result",
          "data": {
            "text/plain": [
              "-1.995200412208242"
            ]
          },
          "metadata": {
            "tags": []
          },
          "execution_count": 4
        }
      ]
    },
    {
      "cell_type": "markdown",
      "metadata": {
        "id": "_YUVALCWHE5N",
        "colab_type": "text"
      },
      "source": [
        " iv.\tangle of sin(0.8660254037844386)"
      ]
    },
    {
      "cell_type": "code",
      "metadata": {
        "id": "nW_LFDY7HTvP",
        "colab_type": "code",
        "colab": {
          "base_uri": "https://localhost:8080/",
          "height": 34
        },
        "outputId": "691d3082-b7bf-4e4c-ef7a-2243f7c84265"
      },
      "source": [
        "(math.pi/180)*(0.8660254037844386)"
      ],
      "execution_count": null,
      "outputs": [
        {
          "output_type": "execute_result",
          "data": {
            "text/plain": [
              "0.015114994701951814"
            ]
          },
          "metadata": {
            "tags": []
          },
          "execution_count": 14
        }
      ]
    },
    {
      "cell_type": "markdown",
      "metadata": {
        "id": "9mzIhThoLTqJ",
        "colab_type": "text"
      },
      "source": [
        "  v.\t5^8"
      ]
    },
    {
      "cell_type": "code",
      "metadata": {
        "id": "VD6KdPvBIeqX",
        "colab_type": "code",
        "colab": {
          "base_uri": "https://localhost:8080/",
          "height": 34
        },
        "outputId": "b2230a99-3d62-4b42-b196-bc29d57e779b"
      },
      "source": [
        "5^8"
      ],
      "execution_count": null,
      "outputs": [
        {
          "output_type": "execute_result",
          "data": {
            "text/plain": [
              "13"
            ]
          },
          "metadata": {
            "tags": []
          },
          "execution_count": 19
        }
      ]
    },
    {
      "cell_type": "markdown",
      "metadata": {
        "id": "_pQcmkDlOt6R",
        "colab_type": "text"
      },
      "source": [
        "vi.\tSquare root of 400"
      ]
    },
    {
      "cell_type": "code",
      "metadata": {
        "id": "I03h4YcNOv6W",
        "colab_type": "code",
        "colab": {
          "base_uri": "https://localhost:8080/",
          "height": 34
        },
        "outputId": "4a50616e-777a-413e-cc98-8ad07075af50"
      },
      "source": [
        "math.sqrt(400)"
      ],
      "execution_count": null,
      "outputs": [
        {
          "output_type": "execute_result",
          "data": {
            "text/plain": [
              "20.0"
            ]
          },
          "metadata": {
            "tags": []
          },
          "execution_count": 20
        }
      ]
    },
    {
      "cell_type": "markdown",
      "metadata": {
        "id": "EpSUeuSdO-xa",
        "colab_type": "text"
      },
      "source": [
        "vii.\tThe value of 5^e"
      ]
    },
    {
      "cell_type": "code",
      "metadata": {
        "id": "9l01Ma3BPA8E",
        "colab_type": "code",
        "colab": {
          "base_uri": "https://localhost:8080/",
          "height": 34
        },
        "outputId": "927f38b2-5d50-42e7-9e99-b7bac6ceeb20"
      },
      "source": [
        "5^(int(math.e))"
      ],
      "execution_count": null,
      "outputs": [
        {
          "output_type": "execute_result",
          "data": {
            "text/plain": [
              "7"
            ]
          },
          "metadata": {
            "tags": []
          },
          "execution_count": 28
        }
      ]
    },
    {
      "cell_type": "markdown",
      "metadata": {
        "id": "IAwM7QlsREuR",
        "colab_type": "text"
      },
      "source": [
        "viii.\tThe value of Log(1024), base 2"
      ]
    },
    {
      "cell_type": "code",
      "metadata": {
        "id": "40EgnVQGRGwT",
        "colab_type": "code",
        "colab": {
          "base_uri": "https://localhost:8080/",
          "height": 34
        },
        "outputId": "67329a09-cebe-4993-82f4-b1c73aa9a3e5"
      },
      "source": [
        "math.log2(1024)"
      ],
      "execution_count": null,
      "outputs": [
        {
          "output_type": "execute_result",
          "data": {
            "text/plain": [
              "10.0"
            ]
          },
          "metadata": {
            "tags": []
          },
          "execution_count": 29
        }
      ]
    },
    {
      "cell_type": "markdown",
      "metadata": {
        "id": "ORSOaCiXRNJ_",
        "colab_type": "text"
      },
      "source": [
        "ix.\tThe value of Log(1024), base 10"
      ]
    },
    {
      "cell_type": "code",
      "metadata": {
        "id": "uKi60ziZRmRS",
        "colab_type": "code",
        "colab": {
          "base_uri": "https://localhost:8080/",
          "height": 34
        },
        "outputId": "4ba68abf-b006-49ac-e9f6-dd0d5ad2539a"
      },
      "source": [
        "math.log10(1024)"
      ],
      "execution_count": null,
      "outputs": [
        {
          "output_type": "execute_result",
          "data": {
            "text/plain": [
              "3.010299956639812"
            ]
          },
          "metadata": {
            "tags": []
          },
          "execution_count": 30
        }
      ]
    },
    {
      "cell_type": "markdown",
      "metadata": {
        "id": "9TU0spQPSOzo",
        "colab_type": "text"
      },
      "source": [
        " x.\tThe Floor and Ceiling value of 23.56 "
      ]
    },
    {
      "cell_type": "code",
      "metadata": {
        "id": "jnqgCieWSRTg",
        "colab_type": "code",
        "colab": {
          "base_uri": "https://localhost:8080/",
          "height": 34
        },
        "outputId": "e5ddda42-36d1-4280-9df4-868ea24d05ce"
      },
      "source": [
        "math.floor(23.5)"
      ],
      "execution_count": null,
      "outputs": [
        {
          "output_type": "execute_result",
          "data": {
            "text/plain": [
              "23"
            ]
          },
          "metadata": {
            "tags": []
          },
          "execution_count": 31
        }
      ]
    },
    {
      "cell_type": "code",
      "metadata": {
        "id": "dfYz5VMrS34O",
        "colab_type": "code",
        "colab": {
          "base_uri": "https://localhost:8080/"
        },
        "outputId": "8073db95-6a76-4b1c-b1cf-3d6124c6ad9e"
      },
      "source": [
        "math.ceil(23.56)"
      ],
      "execution_count": null,
      "outputs": [
        {
          "output_type": "execute_result",
          "data": {
            "text/plain": [
              "24"
            ]
          },
          "metadata": {
            "tags": []
          },
          "execution_count": 32
        }
      ]
    }
  ]
}