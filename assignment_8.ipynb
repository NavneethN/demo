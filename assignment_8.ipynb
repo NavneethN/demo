{
  "nbformat": 4,
  "nbformat_minor": 0,
  "metadata": {
    "colab": {
      "name": "assignment_8.ipynb",
      "provenance": []
    },
    "kernelspec": {
      "name": "python3",
      "display_name": "Python 3"
    }
  },
  "cells": [
    {
      "cell_type": "markdown",
      "metadata": {
        "id": "FhW9JjYSP5h9",
        "colab_type": "text"
      },
      "source": [
        "1.Program to calculate the length of a string."
      ]
    },
    {
      "cell_type": "code",
      "metadata": {
        "id": "x7fvCTxmPdPE",
        "colab_type": "code",
        "colab": {
          "base_uri": "https://localhost:8080/",
          "height": 51
        },
        "outputId": "8b29b227-4439-4e8c-b825-a732dd27c99e"
      },
      "source": [
        "string=input(\"Enter a string: \")\n",
        "len=len(string)\n",
        "print(\"The length of\",string,\"is\",len)"
      ],
      "execution_count": 1,
      "outputs": [
        {
          "output_type": "stream",
          "text": [
            "Enter a string: king\n",
            "The length of king is 4\n"
          ],
          "name": "stdout"
        }
      ]
    },
    {
      "cell_type": "markdown",
      "metadata": {
        "id": "fDJfgASZQCrx",
        "colab_type": "text"
      },
      "source": [
        "2. Program to find the character frequency in a string."
      ]
    },
    {
      "cell_type": "code",
      "metadata": {
        "id": "9DW8lf8LQKWP",
        "colab_type": "code",
        "colab": {
          "base_uri": "https://localhost:8080/",
          "height": 51
        },
        "outputId": "8d0727b5-7e69-4c8e-f48a-93f5de3535cd"
      },
      "source": [
        "string=input(\"Enter a string: \")\n",
        "freq={}\n",
        "for i in string:\n",
        "    if i in freq:\n",
        "        freq[i]+=1\n",
        "    else:\n",
        "        freq[i]=1\n",
        "print(\"Character frequency\",string,\"is:\",freq)"
      ],
      "execution_count": 3,
      "outputs": [
        {
          "output_type": "stream",
          "text": [
            "Enter a string: hello world\n",
            "Character frequency hello world is: {'h': 1, 'e': 1, 'l': 3, 'o': 2, ' ': 1, 'w': 1, 'r': 1, 'd': 1}\n"
          ],
          "name": "stdout"
        }
      ]
    },
    {
      "cell_type": "markdown",
      "metadata": {
        "id": "zRLxJvGrQZbZ",
        "colab_type": "text"
      },
      "source": [
        "3.Program to get a single string from two given strings, separated by a space and swap the first character of each string."
      ]
    },
    {
      "cell_type": "code",
      "metadata": {
        "id": "A99bNct3Qd8e",
        "colab_type": "code",
        "colab": {
          "base_uri": "https://localhost:8080/",
          "height": 85
        },
        "outputId": "aae5ae8c-9780-4ea7-f80b-f8e36fe25854"
      },
      "source": [
        "str1= input(\"Enter the first string: \")\n",
        "str2= input(\"Enter the secnd string: \")\n",
        "str1_swap= str2[:1]+str1[1:]\n",
        "str2_swap= str1[:1]+str2[1:]\n",
        "print(\"First String on Swap\",str1_swap)\n",
        "print(\"Second String on Swap\",str2_swap)"
      ],
      "execution_count": 5,
      "outputs": [
        {
          "output_type": "stream",
          "text": [
            "Enter the first string: act\n",
            "Enter the secnd string: face\n",
            "First String on Swap fct\n",
            "Second String on Swap aace\n"
          ],
          "name": "stdout"
        }
      ]
    },
    {
      "cell_type": "markdown",
      "metadata": {
        "id": "a84uL267RFMg",
        "colab_type": "text"
      },
      "source": [
        "4.Take input from the user and displays that input back in upper and lower cases."
      ]
    },
    {
      "cell_type": "code",
      "metadata": {
        "id": "4WiVXMzzRKm7",
        "colab_type": "code",
        "colab": {
          "base_uri": "https://localhost:8080/",
          "height": 68
        },
        "outputId": "541ee040-aeec-406f-b5b7-a85150035999"
      },
      "source": [
        "string= input(\"Enter a string: \")\n",
        "upper=string.upper()\n",
        "lower=string.lower()\n",
        "print(\"The String\",string,\"in upper case is\",upper)\n",
        "print(\"The String\",string,\"in lower case is\",lower)"
      ],
      "execution_count": 6,
      "outputs": [
        {
          "output_type": "stream",
          "text": [
            "Enter a string: King\n",
            "The String King in upper case is KING\n",
            "The String King in lower case is king\n"
          ],
          "name": "stdout"
        }
      ]
    },
    {
      "cell_type": "markdown",
      "metadata": {
        "id": "vwEOcCFsRWvy",
        "colab_type": "text"
      },
      "source": [
        "5.Program to remove a newline."
      ]
    },
    {
      "cell_type": "code",
      "metadata": {
        "id": "z95ixaw3RgCn",
        "colab_type": "code",
        "colab": {
          "base_uri": "https://localhost:8080/",
          "height": 35
        },
        "outputId": "a7429ab9-af5c-4de1-bda4-ef5212ce2d06"
      },
      "source": [
        "string= \"rahul\\n\"\n",
        "string.rstrip('\\n')"
      ],
      "execution_count": 7,
      "outputs": [
        {
          "output_type": "execute_result",
          "data": {
            "application/vnd.google.colaboratory.intrinsic": {
              "type": "string"
            },
            "text/plain": [
              "'rahul'"
            ]
          },
          "metadata": {
            "tags": []
          },
          "execution_count": 7
        }
      ]
    },
    {
      "cell_type": "markdown",
      "metadata": {
        "id": "-SZaNjabRnKC",
        "colab_type": "text"
      },
      "source": [
        "6.Program to count occurrences of a substring in a string."
      ]
    },
    {
      "cell_type": "code",
      "metadata": {
        "id": "JmZE3pkwRx8j",
        "colab_type": "code",
        "colab": {
          "base_uri": "https://localhost:8080/",
          "height": 68
        },
        "outputId": "6caa9032-a903-4e40-9ea6-b85153da401b"
      },
      "source": [
        "string= input(\"Enter a string: \")\n",
        "substr= input(\"Enter a substring present: \")\n",
        "string.count(substr)"
      ],
      "execution_count": 8,
      "outputs": [
        {
          "output_type": "stream",
          "text": [
            "Enter a string: pubg\n",
            "Enter a substring present: ub\n"
          ],
          "name": "stdout"
        },
        {
          "output_type": "execute_result",
          "data": {
            "text/plain": [
              "1"
            ]
          },
          "metadata": {
            "tags": []
          },
          "execution_count": 8
        }
      ]
    },
    {
      "cell_type": "markdown",
      "metadata": {
        "id": "39ArcJIxSFuP",
        "colab_type": "text"
      },
      "source": [
        "7.Program to convert a string in a list."
      ]
    },
    {
      "cell_type": "code",
      "metadata": {
        "id": "ML92Ia4SSF5j",
        "colab_type": "code",
        "colab": {
          "base_uri": "https://localhost:8080/",
          "height": 51
        },
        "outputId": "4732c9f7-31a9-419e-dcd7-d2851a61a0fd"
      },
      "source": [
        "string=input(\"Enter a string: \")\n",
        "list=list(string)\n",
        "print(\"Converted list is\",list)"
      ],
      "execution_count": 9,
      "outputs": [
        {
          "output_type": "stream",
          "text": [
            "Enter a string: neon\n",
            "Converted list is ['n', 'e', 'o', 'n']\n"
          ],
          "name": "stdout"
        }
      ]
    },
    {
      "cell_type": "markdown",
      "metadata": {
        "id": "NEKzP6QiSRZI",
        "colab_type": "text"
      },
      "source": [
        "8.Program to delete a character.\n"
      ]
    },
    {
      "cell_type": "code",
      "metadata": {
        "id": "i6lGzUZgSRgA",
        "colab_type": "code",
        "colab": {
          "base_uri": "https://localhost:8080/",
          "height": 153
        },
        "outputId": "02788f28-9a8f-4393-bb82-7244ae84376b"
      },
      "source": [
        "str=input(\"Enter a string: \")\n",
        "print(\"Characters in the string\",str,\"are:\")\n",
        "for i in str:\n",
        "    print(i)"
      ],
      "execution_count": 10,
      "outputs": [
        {
          "output_type": "stream",
          "text": [
            "Enter a string: python\n",
            "Characters in the string python are:\n",
            "p\n",
            "y\n",
            "t\n",
            "h\n",
            "o\n",
            "n\n"
          ],
          "name": "stdout"
        }
      ]
    },
    {
      "cell_type": "markdown",
      "metadata": {
        "id": "ugeubtn2SfK_",
        "colab_type": "text"
      },
      "source": [
        "9.Program to find the length of the string \"refrigerator\" without using len function."
      ]
    },
    {
      "cell_type": "code",
      "metadata": {
        "id": "xvwFohyMSfVD",
        "colab_type": "code",
        "colab": {
          "base_uri": "https://localhost:8080/",
          "height": 34
        },
        "outputId": "22c57987-f28f-4385-8b15-f6b83645ef8d"
      },
      "source": [
        "str= \"refrigerator\"\n",
        "len=0\n",
        "for i in str:\n",
        "    len+=1\n",
        "print(\"The length of the string\",str,\"is: \",len)"
      ],
      "execution_count": 23,
      "outputs": [
        {
          "output_type": "stream",
          "text": [
            "The length of the string refrigerator is:  12\n"
          ],
          "name": "stdout"
        }
      ]
    }
  ]
}