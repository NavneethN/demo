{
  "nbformat": 4,
  "nbformat_minor": 0,
  "metadata": {
    "colab": {
      "name": "assignment_7.ipynb",
      "provenance": []
    },
    "kernelspec": {
      "name": "python3",
      "display_name": "Python 3"
    }
  },
  "cells": [
    {
      "cell_type": "markdown",
      "metadata": {
        "id": "MDkLCjo0synf",
        "colab_type": "text"
      },
      "source": [
        "1.Convert Binary to Decimal"
      ]
    },
    {
      "cell_type": "code",
      "metadata": {
        "id": "QWn5D9v3shzD",
        "colab_type": "code",
        "colab": {
          "base_uri": "https://localhost:8080/",
          "height": 51
        },
        "outputId": "54f0cc93-71e0-48ed-ee72-797ce9ea3f41"
      },
      "source": [
        "num=int(input(\"Enter the binary number: \"))\n",
        "decimal=0\n",
        "base=1\n",
        "temp=num\n",
        "\n",
        "while temp!=0:\n",
        "    last=temp%10\n",
        "    temp=int(temp/10)\n",
        "    decimal+=last*base\n",
        "    base=base*2\n",
        "print(\"The decimal form is\",decimal)"
      ],
      "execution_count": 2,
      "outputs": [
        {
          "output_type": "stream",
          "text": [
            "Enter the binary number: 01010\n",
            "The decimal form is 10\n"
          ],
          "name": "stdout"
        }
      ]
    },
    {
      "cell_type": "markdown",
      "metadata": {
        "id": "lyvjR-jrs-xt",
        "colab_type": "text"
      },
      "source": [
        "2.Generate first n Fibonacci series"
      ]
    },
    {
      "cell_type": "code",
      "metadata": {
        "id": "Gas1_W_xtPZU",
        "colab_type": "code",
        "colab": {
          "base_uri": "https://localhost:8080/",
          "height": 170
        },
        "outputId": "34eb0541-0aa0-4f76-9390-dfdf4b37e03b"
      },
      "source": [
        "n= int(input(\"Enter the value of n: \"))\n",
        "n1=0\n",
        "n2 =1 \n",
        "count=0\n",
        "print(\"Fibonacci Sequence until\",n,\"terms is: \")\n",
        "while count<n:\n",
        "    print(n1)\n",
        "    n3=n1+n2\n",
        "    n1=n2\n",
        "    n2=n3\n",
        "    count+=1"
      ],
      "execution_count": 3,
      "outputs": [
        {
          "output_type": "stream",
          "text": [
            "Enter the value of n: 7\n",
            "Fibonacci Sequence until 7 terms is: \n",
            "0\n",
            "1\n",
            "1\n",
            "2\n",
            "3\n",
            "5\n",
            "8\n"
          ],
          "name": "stdout"
        }
      ]
    },
    {
      "cell_type": "markdown",
      "metadata": {
        "id": "tK9OhtXCtWhM",
        "colab_type": "text"
      },
      "source": [
        "3.Display multiplication table of k. Take k value from user."
      ]
    },
    {
      "cell_type": "code",
      "metadata": {
        "id": "R7Lg4BKZtZWv",
        "colab_type": "code",
        "colab": {
          "base_uri": "https://localhost:8080/",
          "height": 221
        },
        "outputId": "124e9356-c066-4ba0-d36b-49bbd32f52d8"
      },
      "source": [
        "k=int(input(\"Enter a number to print the multiplication table: \"))\n",
        "print(\"Multiplication table:\")\n",
        "for i in range(1,11):\n",
        "    print(k,\"*\",i,\"=\",k*i)"
      ],
      "execution_count": 4,
      "outputs": [
        {
          "output_type": "stream",
          "text": [
            "Enter a number to print the multiplication table: 3\n",
            "Multiplication table:\n",
            "3 * 1 = 3\n",
            "3 * 2 = 6\n",
            "3 * 3 = 9\n",
            "3 * 4 = 12\n",
            "3 * 5 = 15\n",
            "3 * 6 = 18\n",
            "3 * 7 = 21\n",
            "3 * 8 = 24\n",
            "3 * 9 = 27\n",
            "3 * 10 = 30\n"
          ],
          "name": "stdout"
        }
      ]
    },
    {
      "cell_type": "markdown",
      "metadata": {
        "id": "9MY8_H2gthEY",
        "colab_type": "text"
      },
      "source": [
        "4.Take 10 integers from keyboard using loop and print their average value on the screen ."
      ]
    },
    {
      "cell_type": "code",
      "metadata": {
        "id": "sEtWs5f-Bj5o",
        "colab_type": "code",
        "colab": {
          "base_uri": "https://localhost:8080/",
          "height": 204
        },
        "outputId": "810f6870-f69b-43dd-f92a-072d19d0e12e"
      },
      "source": [
        "sum=0\n",
        "for n in range(1,11):\n",
        "   n= int(input(\"Enter a value: \"))\n",
        "   sum=sum+n\n",
        "average=sum/11\n",
        "print(average) \n",
        "\n",
        "\n"
      ],
      "execution_count": 19,
      "outputs": [
        {
          "output_type": "stream",
          "text": [
            "Enter a value: 4\n",
            "Enter a value: 5\n",
            "Enter a value: 6\n",
            "Enter a value: 7\n",
            "Enter a value: 9\n",
            "Enter a value: 5\n",
            "Enter a value: 6\n",
            "Enter a value: 5\n",
            "Enter a value: 4\n",
            "Enter a value: 5\n",
            "5.090909090909091\n"
          ],
          "name": "stdout"
        }
      ]
    },
    {
      "cell_type": "markdown",
      "metadata": {
        "id": "emuMnJtjCbGR",
        "colab_type": "text"
      },
      "source": [
        "4.b)Print the following patterns using loop:"
      ]
    },
    {
      "cell_type": "code",
      "metadata": {
        "id": "kLkySrqOCib8",
        "colab_type": "code",
        "colab": {
          "base_uri": "https://localhost:8080/",
          "height": 85
        },
        "outputId": "ca0f791c-d4ec-43eb-9115-e386dda249ed"
      },
      "source": [
        "rows = 4\n",
        "for row in range(1, rows+1):\n",
        "    for column in range(1, row + 1):\n",
        "        print(\"*\", end=\"\")\n",
        "    print(\"\")"
      ],
      "execution_count": 21,
      "outputs": [
        {
          "output_type": "stream",
          "text": [
            "*\n",
            "**\n",
            "***\n",
            "****\n"
          ],
          "name": "stdout"
        }
      ]
    },
    {
      "cell_type": "markdown",
      "metadata": {
        "id": "ktCULqYSAJkh",
        "colab_type": "text"
      },
      "source": [
        "5.Program to find the GCD of two numbers."
      ]
    },
    {
      "cell_type": "code",
      "metadata": {
        "id": "BxQsyM7PAa9E",
        "colab_type": "code",
        "colab": {
          "base_uri": "https://localhost:8080/",
          "height": 68
        },
        "outputId": "8cbafb55-5061-4004-f1c1-8fe53a06f207"
      },
      "source": [
        "import math\n",
        "n1= int(input(\"Enter First number:\"))\n",
        "n2= int(input(\"Enter second number:\"))\n",
        "print(math.gcd(n1,n2),\"is the GCD of\",n1,\"and\",n2)"
      ],
      "execution_count": 14,
      "outputs": [
        {
          "output_type": "stream",
          "text": [
            "Enter First number:4\n",
            "Enter second number:8\n",
            "4 is the GCD of 4 and 8\n"
          ],
          "name": "stdout"
        }
      ]
    },
    {
      "cell_type": "markdown",
      "metadata": {
        "id": "Aczj6wguAqmQ",
        "colab_type": "text"
      },
      "source": [
        "6.Program that accepts a word from the user and reverses it."
      ]
    },
    {
      "cell_type": "code",
      "metadata": {
        "id": "ekcxdo0cA1Nd",
        "colab_type": "code",
        "colab": {
          "base_uri": "https://localhost:8080/",
          "height": 51
        },
        "outputId": "e1313db8-818e-4665-d511-f5b83dbbe852"
      },
      "source": [
        "word=input(\"Enter a word: \")\n",
        "rev= word[::-1]\n",
        "print(\"Reverse of\",word,\"is\",rev)"
      ],
      "execution_count": 17,
      "outputs": [
        {
          "output_type": "stream",
          "text": [
            "Enter a word: dad\n",
            "Reverse of dad is dad\n"
          ],
          "name": "stdout"
        }
      ]
    },
    {
      "cell_type": "markdown",
      "metadata": {
        "id": "FXz-_Te7BIc9",
        "colab_type": "text"
      },
      "source": [
        "7.Program to count the number of even and odd numbers from a series of numbers."
      ]
    },
    {
      "cell_type": "code",
      "metadata": {
        "id": "Z8q5iu0QBPF5",
        "colab_type": "code",
        "colab": {
          "base_uri": "https://localhost:8080/",
          "height": 85
        },
        "outputId": "0e27b037-352f-4da4-ac83-2a80ebb0f593"
      },
      "source": [
        "start=int(input(\"Enter the starting number: \"))\n",
        "end=int(input(\"Enter the ending number:\"))\n",
        "count_even=0\n",
        "count_odd=0\n",
        "for num in range(start,end+1):\n",
        "    if num%2==0:\n",
        "        count_even+=1\n",
        "    else:\n",
        "        count_odd+=1\n",
        "print(\"The number of even numbers:\",count_even)\n",
        "print(\"The number of odd numbers\",count_odd)"
      ],
      "execution_count": 18,
      "outputs": [
        {
          "output_type": "stream",
          "text": [
            "Enter the starting number: 0\n",
            "Enter the ending number:100\n",
            "The number of even numbers: 51\n",
            "The number of odd numbers 50\n"
          ],
          "name": "stdout"
        }
      ]
    },
    {
      "cell_type": "markdown",
      "metadata": {
        "id": "TJ_WkpRZBbhK",
        "colab_type": "text"
      },
      "source": [
        "8.Program that prints all numbers from 0 to 6 except 3 and 6"
      ]
    },
    {
      "cell_type": "code",
      "metadata": {
        "id": "dFD1hwUkBel3",
        "colab_type": "code",
        "colab": {
          "base_uri": "https://localhost:8080/",
          "height": 102
        },
        "outputId": "87f3ce7f-7962-4a09-ee52-2ffc9014ef0e"
      },
      "source": [
        "for num in range(0,6):\n",
        "    if num==3:\n",
        "        continue\n",
        "    print(num)"
      ],
      "execution_count": 19,
      "outputs": [
        {
          "output_type": "stream",
          "text": [
            "0\n",
            "1\n",
            "2\n",
            "4\n",
            "5\n"
          ],
          "name": "stdout"
        }
      ]
    }
  ]
}