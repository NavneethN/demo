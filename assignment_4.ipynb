{
  "nbformat": 4,
  "nbformat_minor": 0,
  "metadata": {
    "colab": {
      "name": "assignment 4.ipynb",
      "provenance": []
    },
    "kernelspec": {
      "name": "python3",
      "display_name": "Python 3"
    }
  },
  "cells": [
    {
      "cell_type": "markdown",
      "metadata": {
        "id": "7rMd9Pcj_jJx",
        "colab_type": "text"
      },
      "source": [
        "Write a Python function to find the max of three numbers."
      ]
    },
    {
      "cell_type": "code",
      "metadata": {
        "id": "TbUYAnUBAEdx",
        "colab_type": "code",
        "colab": {
          "base_uri": "https://localhost:8080/",
          "height": 85
        },
        "outputId": "10328a7a-67d5-4c4a-a0f2-f35bf91b12ea"
      },
      "source": [
        "def maxnumber(a,b,c):\n",
        "  if a>b and a>c:\n",
        "    print(\"a is maximum: \"+str(a))\n",
        "  elif b>a and b>c:\n",
        "    print(\"b is maximun: \"+str(b))\n",
        "  else:\n",
        "    print(\"c is maximum: \"+str(c))\n",
        "\n",
        "\n",
        "a=int(input(\"Enter the first value\"))\n",
        "b=int(input(\"Enter the second value\"))\n",
        "c=int(input(\"Enter the third value\"))\n",
        "maxnumber(a,b,c)\n",
        "\n"
      ],
      "execution_count": null,
      "outputs": [
        {
          "output_type": "stream",
          "text": [
            "Enter the first value7\n",
            "Enter the second value5\n",
            "Enter the third value4\n",
            "a is maximum: 7\n"
          ],
          "name": "stdout"
        }
      ]
    },
    {
      "cell_type": "markdown",
      "metadata": {
        "id": "hY-mdaZVETEP",
        "colab_type": "text"
      },
      "source": [
        "Write a program to reverse a string.\n"
      ]
    },
    {
      "cell_type": "code",
      "metadata": {
        "id": "dkPDOQeIEarH",
        "colab_type": "code",
        "colab": {
          "base_uri": "https://localhost:8080/",
          "height": 51
        },
        "outputId": "8f1d1682-1aee-44dd-971f-7fda8d9f170b"
      },
      "source": [
        "a=input(\"Enter the string: \")\n",
        "print(a[-1::-1])\n"
      ],
      "execution_count": null,
      "outputs": [
        {
          "output_type": "stream",
          "text": [
            "Enter the string: King\n",
            "gniK\n"
          ],
          "name": "stdout"
        }
      ]
    },
    {
      "cell_type": "markdown",
      "metadata": {
        "id": "eAMOQCgDFsaX",
        "colab_type": "text"
      },
      "source": [
        "Write a python function to check whether the number is prime or not ."
      ]
    },
    {
      "cell_type": "code",
      "metadata": {
        "id": "wx1g-yL0F8-G",
        "colab_type": "code",
        "colab": {
          "base_uri": "https://localhost:8080/",
          "height": 51
        },
        "outputId": "291fe5c6-a712-4bfc-9670-99bc1edec057"
      },
      "source": [
        "def primenumber(n):\n",
        "  for i in range(2,n//2+1):\n",
        "    if (n%i==0):\n",
        "      return \"The number is not prime\"\n",
        "      \n",
        "    else:\n",
        "      return \"The nummber is prime\"\n",
        "      \n",
        "n=int(input(\"Enter the number\"))\n",
        "primenumber(n)\n",
        "\n",
        " \n",
        "     "
      ],
      "execution_count": 21,
      "outputs": [
        {
          "output_type": "stream",
          "text": [
            "Enter the number6\n"
          ],
          "name": "stdout"
        },
        {
          "output_type": "execute_result",
          "data": {
            "text/plain": [
              "'The number is not prime'"
            ]
          },
          "metadata": {
            "tags": []
          },
          "execution_count": 21
        }
      ]
    },
    {
      "cell_type": "markdown",
      "metadata": {
        "id": "_LiBHgpbMX0J",
        "colab_type": "text"
      },
      "source": [
        "Write a python fuction to find sum of square of first n natural numbers."
      ]
    },
    {
      "cell_type": "code",
      "metadata": {
        "id": "p-K9AoLNMkTw",
        "colab_type": "code",
        "colab": {
          "base_uri": "https://localhost:8080/",
          "height": 34
        },
        "outputId": "7fd97e87-7ffb-42af-a69e-a7ae1fd50de5"
      },
      "source": [
        "def sum_square(n):\n",
        "  sum=0\n",
        "  for i in range(n+1):\n",
        "    square=i*i\n",
        "    sum+=square\n",
        "  return sum\n",
        "print(sum_square(4))    \n"
      ],
      "execution_count": 5,
      "outputs": [
        {
          "output_type": "stream",
          "text": [
            "30\n"
          ],
          "name": "stdout"
        }
      ]
    }
  ]
}