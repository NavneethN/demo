{
  "nbformat": 4,
  "nbformat_minor": 0,
  "metadata": {
    "colab": {
      "name": "assignment 6.ipynb",
      "provenance": [],
      "collapsed_sections": []
    },
    "kernelspec": {
      "name": "python3",
      "display_name": "Python 3"
    }
  },
  "cells": [
    {
      "cell_type": "markdown",
      "metadata": {
        "id": "oeRZSCmVVlO4",
        "colab_type": "text"
      },
      "source": [
        "1) Write a python program to find the square root"
      ]
    },
    {
      "cell_type": "code",
      "metadata": {
        "id": "dN3AJqhFVgw0",
        "colab_type": "code",
        "colab": {
          "base_uri": "https://localhost:8080/",
          "height": 51
        },
        "outputId": "db1b5cfb-8079-41ee-eae2-f91e829aa97c"
      },
      "source": [
        "n=int(input(\"Enter the number\"))\n",
        "sqrt=(n**1/2)\n",
        "print(\"The square of root {} is:{} \".format(n,sqrt))"
      ],
      "execution_count": null,
      "outputs": [
        {
          "output_type": "stream",
          "text": [
            "Enter the number4\n",
            "The square of root 4 is:2.0 \n"
          ],
          "name": "stdout"
        }
      ]
    },
    {
      "cell_type": "markdown",
      "metadata": {
        "id": "Rgv-gqgsXXtw",
        "colab_type": "text"
      },
      "source": [
        "2) Write a python program to check if a number is Positive,Negative or 0"
      ]
    },
    {
      "cell_type": "code",
      "metadata": {
        "id": "4bRJ22_tX1zS",
        "colab_type": "code",
        "colab": {
          "base_uri": "https://localhost:8080/",
          "height": 51
        },
        "outputId": "bec0d99a-cddc-4e81-a584-7123850e73fe"
      },
      "source": [
        "n=int(input(\"Enter the number\"))\n",
        "if n>0:\n",
        "  print(\"Number is Positive\")\n",
        "elif n<0:\n",
        "  print(\"Number is Negative\")\n",
        "else:\n",
        "  print(\"Number is Zero\")    "
      ],
      "execution_count": null,
      "outputs": [
        {
          "output_type": "stream",
          "text": [
            "Enter the number0\n",
            "Number is Zero\n"
          ],
          "name": "stdout"
        }
      ]
    },
    {
      "cell_type": "markdown",
      "metadata": {
        "id": "frL9RKiiZCLT",
        "colab_type": "text"
      },
      "source": [
        "3) Write a python program to check leap year\n",
        "\n",
        "\n"
      ]
    },
    {
      "cell_type": "code",
      "metadata": {
        "id": "Hdbd1W8mfLSO",
        "colab_type": "code",
        "colab": {
          "base_uri": "https://localhost:8080/",
          "height": 51
        },
        "outputId": "a65a1d8e-fa01-498f-cea4-c696e883f595"
      },
      "source": [
        "year = int(input(\"Enter a year: \"))  \n",
        "if (year % 4) == 0:  \n",
        "   if (year % 100) == 0:  \n",
        "       if (year % 400) == 0:  \n",
        "           print(\"{} is a leap year\".format(year))  \n",
        "       else:  \n",
        "           print(\"{} is not a leap year\".format(year))  \n",
        "   else:  \n",
        "       print(\"{} is a leap year\".format(year))  \n",
        "else:  \n",
        "   print(\"{} is not a leap year\".format(year))  "
      ],
      "execution_count": null,
      "outputs": [
        {
          "output_type": "stream",
          "text": [
            "Enter a year: 2012\n",
            "2012 is a leap year\n"
          ],
          "name": "stdout"
        }
      ]
    },
    {
      "cell_type": "markdown",
      "metadata": {
        "id": "wTekJtZ0fkGV",
        "colab_type": "text"
      },
      "source": [
        "4)Write a python program to print fibonacci sequence\n"
      ]
    },
    {
      "cell_type": "code",
      "metadata": {
        "id": "rLAwFT_1oFy0",
        "colab_type": "code",
        "colab": {
          "base_uri": "https://localhost:8080/",
          "height": 170
        },
        "outputId": "b2f48290-68ef-4390-96d4-a177c8382134"
      },
      "source": [
        "n=int(input(\"Enter the number\"))\n",
        "a=0\n",
        "b=1\n",
        "if n<=0:\n",
        "   print(\"Enter the positive integer\")\n",
        "elif n==1:\n",
        "   print(\"Fibonacci sequence upto\",n)\n",
        "   print(a)\n",
        "else:\n",
        "  print(\"The fibonacci sequence: \")\n",
        "  for i in range(0,n):\n",
        "   print(a) \n",
        "   c=a+b\n",
        "   a=b\n",
        "   b=c\n",
        "  \n",
        "  \n"
      ],
      "execution_count": null,
      "outputs": [
        {
          "output_type": "stream",
          "text": [
            "Enter the number7\n",
            "The fibonacci sequence: \n",
            "0\n",
            "1\n",
            "1\n",
            "2\n",
            "3\n",
            "5\n",
            "8\n"
          ],
          "name": "stdout"
        }
      ]
    },
    {
      "cell_type": "markdown",
      "metadata": {
        "id": "PXFTnR1Ct4c2",
        "colab_type": "text"
      },
      "source": [
        "5)Write a python program  to check armstrong number\n"
      ]
    },
    {
      "cell_type": "code",
      "metadata": {
        "id": "8yueDeFsk5aU",
        "colab_type": "code",
        "colab": {
          "base_uri": "https://localhost:8080/",
          "height": 51
        },
        "outputId": "ae32f41e-b1ef-4106-c24d-26bf331ba782"
      },
      "source": [
        "num = int(input(\"Enter a number: \"))\n",
        "sum = 0\n",
        "temp = num\n",
        "while temp > 0:\n",
        "   digit = temp % 10\n",
        "   sum += digit ** 3\n",
        "   temp //= 10\n",
        "if num == sum:\n",
        "   print(num,\"is an Armstrong number\")\n",
        "else:\n",
        "   print(num,\"is not an Armstrong number\")"
      ],
      "execution_count": 9,
      "outputs": [
        {
          "output_type": "stream",
          "text": [
            "Enter a number: 407\n",
            "407 is an Armstrong number\n"
          ],
          "name": "stdout"
        }
      ]
    },
    {
      "cell_type": "markdown",
      "metadata": {
        "id": "6hNLWtrul83U",
        "colab_type": "text"
      },
      "source": [
        "6)Write a python program to find armstong number in an interval "
      ]
    },
    {
      "cell_type": "code",
      "metadata": {
        "id": "PH3Vn2ZMxF_S",
        "colab_type": "code",
        "colab": {
          "base_uri": "https://localhost:8080/",
          "height": 136
        },
        "outputId": "26b8c5a0-6ffc-4c97-c262-64e7e8056819"
      },
      "source": [
        "lower=int(input(\"Enter the number\"))\n",
        "upper=int(input(\"Enter the number\"))\n",
        "for num in range(lower,upper+1):\n",
        "  order=len(str(num))\n",
        "  sum=0\n",
        "  temp=num\n",
        "  while temp>0:\n",
        "    digit=temp%10\n",
        "    sum+=digit**order\n",
        "    temp//=10 \n",
        "  if num==sum:\n",
        "    print(num)\n",
        "\n",
        "\n",
        "  \n"
      ],
      "execution_count": 13,
      "outputs": [
        {
          "output_type": "stream",
          "text": [
            "Enter the number100\n",
            "Enter the number2000\n",
            "153\n",
            "370\n",
            "371\n",
            "407\n",
            "1634\n"
          ],
          "name": "stdout"
        }
      ]
    }
  ]
}