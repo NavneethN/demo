{
 "cells": [
  {
   "cell_type": "markdown",
   "metadata": {},
   "source": [
    "# To calculate simple interest"
   ]
  },
  {
   "cell_type": "code",
   "execution_count": 3,
   "metadata": {},
   "outputs": [
    {
     "name": "stdout",
     "output_type": "stream",
     "text": [
      "The simple interest is:1.0\n"
     ]
    }
   ],
   "source": [
    "p,t,r=5,4,5\n",
    "si=p*t*r/100\n",
    "print(\"The simple interest is:\"+str(si))\n"
   ]
  },
  {
   "cell_type": "markdown",
   "metadata": {},
   "source": [
    "# To calulate area of circle\n",
    "\n"
   ]
  },
  {
   "cell_type": "code",
   "execution_count": 5,
   "metadata": {},
   "outputs": [
    {
     "name": "stdout",
     "output_type": "stream",
     "text": [
      "The area of circle is:78.5\n"
     ]
    }
   ],
   "source": [
    "r=5\n",
    "area=3.14*r*r\n",
    "print(\"The area of circle is:\"+str(area))"
   ]
  },
  {
   "cell_type": "markdown",
   "metadata": {},
   "source": [
    "# To calculate the area of triangle"
   ]
  },
  {
   "cell_type": "code",
   "execution_count": 6,
   "metadata": {},
   "outputs": [
    {
     "name": "stdout",
     "output_type": "stream",
     "text": [
      "The area of triangle is:5.0\n"
     ]
    }
   ],
   "source": [
    "base,height=2,5\n",
    "area=base*height/2\n",
    "print(\"The area of triangle is:\"+str(area))"
   ]
  },
  {
   "cell_type": "markdown",
   "metadata": {},
   "source": [
    "# To temperature in Celsius to Farhenheit"
   ]
  },
  {
   "cell_type": "code",
   "execution_count": 7,
   "metadata": {},
   "outputs": [
    {
     "name": "stdout",
     "output_type": "stream",
     "text": [
      "The temperature in Farhenheit:32.0\n"
     ]
    }
   ],
   "source": [
    "C=0\n",
    "F=(C*(5/9)+32)\n",
    "print(\"The temperature in Farhenheit:\"+str(F))"
   ]
  },
  {
   "cell_type": "markdown",
   "metadata": {},
   "source": [
    "# To calculate area of rectangle\n"
   ]
  },
  {
   "cell_type": "code",
   "execution_count": 8,
   "metadata": {},
   "outputs": [
    {
     "name": "stdout",
     "output_type": "stream",
     "text": [
      "The area of rectangle:10\n"
     ]
    }
   ],
   "source": [
    "length,width=5,2\n",
    "area=length*width\n",
    "print(\"The area of rectangle:\"+str(area))"
   ]
  },
  {
   "cell_type": "markdown",
   "metadata": {},
   "source": [
    "# To calculate perimeter of square"
   ]
  },
  {
   "cell_type": "code",
   "execution_count": 9,
   "metadata": {},
   "outputs": [
    {
     "name": "stdout",
     "output_type": "stream",
     "text": [
      "The perimeter of square:16\n"
     ]
    }
   ],
   "source": [
    "a=4\n",
    "P=4*a\n",
    "print(\"The perimeter of square:\"+str(P))"
   ]
  },
  {
   "cell_type": "markdown",
   "metadata": {},
   "source": [
    "# To calculate circumference of a circle"
   ]
  },
  {
   "cell_type": "code",
   "execution_count": 11,
   "metadata": {},
   "outputs": [
    {
     "name": "stdout",
     "output_type": "stream",
     "text": [
      "Circumference of a circle:31.400000000000002\n"
     ]
    }
   ],
   "source": [
    "r=5\n",
    "Circum=2*3.14*r\n",
    "print(\"Circumference of a circle:\"+str(Circum))"
   ]
  },
  {
   "cell_type": "markdown",
   "metadata": {},
   "source": [
    "# Swap two numbers"
   ]
  },
  {
   "cell_type": "code",
   "execution_count": 15,
   "metadata": {},
   "outputs": [
    {
     "name": "stdout",
     "output_type": "stream",
     "text": [
      "The value of x after swapping:3\n",
      "Thevalue of y after swapping:5\n"
     ]
    }
   ],
   "source": [
    "x=5\n",
    "y=3\n",
    "temp=x\n",
    "x=y\n",
    "y=temp\n",
    "print(\"The value of x after swapping:\"+str(x))\n",
    "print(\"Thevalue of y after swapping:\"+str(y))"
   ]
  },
  {
   "cell_type": "markdown",
   "metadata": {},
   "source": [
    "# Simple calculator for the operators"
   ]
  },
  {
   "cell_type": "code",
   "execution_count": 11,
   "metadata": {},
   "outputs": [
    {
     "name": "stdout",
     "output_type": "stream",
     "text": [
      "Enter the first value:5\n",
      "Enter the second value:5\n",
      "The addition of a and b:10\n",
      "The subtration of a and b:0\n",
      "The division of a and b:1.0\n",
      "The multiplication of a and b:25\n",
      "The modulus of a and b:0\n",
      "The raising of power a to b:3125\n",
      "The floor division of a and b:1\n"
     ]
    }
   ],
   "source": [
    "a=int(input(\"Enter the first value:\"))\n",
    "b=int(input(\"Enter the second value:\"))\n",
    "add=a+b\n",
    "sub=a-b\n",
    "div=a/b\n",
    "multi=a*b\n",
    "mod=a%b\n",
    "expo=a**b\n",
    "floor=a//b\n",
    "print(\"The addition of a and b:\"+str(add))\n",
    "print(\"The subtration of a and b:\"+str(sub))\n",
    "print(\"The division of a and b:\"+str(div))\n",
    "print(\"The multiplication of a and b:\"+str(multi))\n",
    "print(\"The modulus of a and b:\"+str(mod))\n",
    "print(\"The raising of power a to b:\"+str(expo))\n",
    "print(\"The floor division of a and b:\"+str(floor))\n"
   ]
  },
  {
   "cell_type": "code",
   "execution_count": null,
   "metadata": {},
   "outputs": [],
   "source": []
  }
 ],
 "metadata": {
  "kernelspec": {
   "display_name": "Python 3",
   "language": "python",
   "name": "python3"
  },
  "language_info": {
   "codemirror_mode": {
    "name": "ipython",
    "version": 3
   },
   "file_extension": ".py",
   "mimetype": "text/x-python",
   "name": "python",
   "nbconvert_exporter": "python",
   "pygments_lexer": "ipython3",
   "version": "3.7.4"
  }
 },
 "nbformat": 4,
 "nbformat_minor": 2
}
