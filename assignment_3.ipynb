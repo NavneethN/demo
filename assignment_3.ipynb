{
  "nbformat": 4,
  "nbformat_minor": 0,
  "metadata": {
    "colab": {
      "name": "assignment 3.ipynb",
      "provenance": []
    },
    "kernelspec": {
      "name": "python3",
      "display_name": "Python 3"
    }
  },
  "cells": [
    {
      "cell_type": "markdown",
      "metadata": {
        "id": "aDTSynW6pgWC",
        "colab_type": "text"
      },
      "source": [
        "1)\n",
        "Take two inputs from user and check whether they are equal or not"
      ]
    },
    {
      "cell_type": "code",
      "metadata": {
        "id": "iJD2RLxOn_dp",
        "colab_type": "code",
        "colab": {
          "base_uri": "https://localhost:8080/",
          "height": 68
        },
        "outputId": "fb595e46-512c-43f5-820a-e826c80f7de0"
      },
      "source": [
        "a=int(input(\"Enter the first value\"))\n",
        "b=int(input(\"Enter the second value\"))\n",
        "if a==b:\n",
        "  print(\"Equal\")\n",
        "else:\n",
        "  print(\"Not Equal\") "
      ],
      "execution_count": 4,
      "outputs": [
        {
          "output_type": "stream",
          "text": [
            "Enter the first value5\n",
            "Enter the second value5\n",
            "Equal\n"
          ],
          "name": "stdout"
        }
      ]
    },
    {
      "cell_type": "markdown",
      "metadata": {
        "id": "YWcPeey-qwrJ",
        "colab_type": "text"
      },
      "source": [
        "2) Take 3 inputs from use and check:\n",
        "     \n",
        "\n",
        "*   All  are equal\n",
        "*   Any of two are equal\n",
        "\n",
        "(Use and or) \n",
        "   \n",
        "\n",
        "\n",
        "   \n",
        "\n",
        "\n"
      ]
    },
    {
      "cell_type": "code",
      "metadata": {
        "id": "_HbyEOtaqz2R",
        "colab_type": "code",
        "colab": {
          "base_uri": "https://localhost:8080/",
          "height": 85
        },
        "outputId": "e54973c4-2864-4ab9-ca35-178ea2ebecb7"
      },
      "source": [
        "a=int(input(\"Enter the first value\"))\n",
        "b=int(input(\"Enter the second value\"))\n",
        "c=int(input(\"Enter the third value\"))\n",
        "if a==b and b==c and a==c:\n",
        "  print(\"Equal\")\n",
        "elif a==b or b==c or a==c:\n",
        "  print(\"Any of two are equal\")\n",
        "else:\n",
        "  print(\"Not Equal\")  \n",
        "  "
      ],
      "execution_count": 9,
      "outputs": [
        {
          "output_type": "stream",
          "text": [
            "Enter the first value5\n",
            "Enter the second value4\n",
            "Enter the third value5\n",
            "Any of two are equal\n"
          ],
          "name": "stdout"
        }
      ]
    },
    {
      "cell_type": "markdown",
      "metadata": {
        "id": "wZp-CKWIvzUs",
        "colab_type": "text"
      },
      "source": [
        "3)Take two number and check whether the sum is greater than 5,less than 5 or equal to 5 "
      ]
    },
    {
      "cell_type": "code",
      "metadata": {
        "id": "C_ljF1k_viRK",
        "colab_type": "code",
        "colab": {
          "base_uri": "https://localhost:8080/",
          "height": 68
        },
        "outputId": "a526de44-9fc8-4e43-bb82-752c905c6d78"
      },
      "source": [
        "a=int(input(\"Enter the first value\"))\n",
        "b=int(input(\"Enter the second value\"))\n",
        "sum=a+b\n",
        "if sum>5:\n",
        "  print(\"Sum is greater than five\")\n",
        "elif sum<5:\n",
        "  print(\"Sum is less than five\")\n",
        "else:\n",
        "  print(\"Sum is equal to five\")    \n"
      ],
      "execution_count": 10,
      "outputs": [
        {
          "output_type": "stream",
          "text": [
            "Enter the first value3\n",
            "Enter the second value2\n",
            "Sum is equal to five\n"
          ],
          "name": "stdout"
        }
      ]
    },
    {
      "cell_type": "markdown",
      "metadata": {
        "id": "VnNyQlXNzB6p",
        "colab_type": "text"
      },
      "source": [
        "4)Suppose passing marks of a subject is 35.Take input of marks from user and check whether it is greater than passing marks or not."
      ]
    },
    {
      "cell_type": "code",
      "metadata": {
        "id": "xVPdOpSOxTa3",
        "colab_type": "code",
        "colab": {
          "base_uri": "https://localhost:8080/",
          "height": 51
        },
        "outputId": "3f2704ff-9b5b-4dcd-9a57-d95e0cab20de"
      },
      "source": [
        "a=int(input(\"Enter the first value\"))\n",
        "score=a\n",
        "if score>=35:\n",
        "  print(\"Pass\") \n",
        "else:\n",
        "  print(\"Fail\")  \n"
      ],
      "execution_count": 11,
      "outputs": [
        {
          "output_type": "stream",
          "text": [
            "Enter the first value40\n",
            "Pass\n"
          ],
          "name": "stdout"
        }
      ]
    },
    {
      "cell_type": "markdown",
      "metadata": {
        "id": "r9V_maq-zXAR",
        "colab_type": "text"
      },
      "source": [
        "5) Write a Python function to find the max of three numbers \n"
      ]
    },
    {
      "cell_type": "code",
      "metadata": {
        "id": "dPbuzU1fz-ZJ",
        "colab_type": "code",
        "colab": {
          "base_uri": "https://localhost:8080/",
          "height": 85
        },
        "outputId": "48ad3606-5cd9-4572-b767-b34523e48508"
      },
      "source": [
        "a=int(input(\"Enter the first value\"))\n",
        "b=int(input(\"Enter the second value\"))\n",
        "c=int(input(\"Enter the third value\"))\n",
        "if a>b and a>c:\n",
        "  print(\"Maximum is a:\"+str(a))\n",
        "elif b>a and b>c:\n",
        "  print(\"Maximum is b:\"+str(b))\n",
        "else :\n",
        "  print(\"Maximum is c:\"+str(c))  \n",
        "\n",
        "      "
      ],
      "execution_count": 15,
      "outputs": [
        {
          "output_type": "stream",
          "text": [
            "Enter the first value4\n",
            "Enter the second value5\n",
            "Enter the third value6\n",
            "Maximum is c:6\n"
          ],
          "name": "stdout"
        }
      ]
    }
  ]
}