{
  "nbformat": 4,
  "nbformat_minor": 0,
  "metadata": {
    "colab": {
      "name": "assignment_12.ipynb",
      "provenance": [],
      "collapsed_sections": []
    },
    "kernelspec": {
      "name": "python3",
      "display_name": "Python 3"
    }
  },
  "cells": [
    {
      "cell_type": "markdown",
      "metadata": {
        "id": "3zJk4rq-a083",
        "colab_type": "text"
      },
      "source": [
        "1. Program to create a tuple."
      ]
    },
    {
      "cell_type": "code",
      "metadata": {
        "id": "R76uwm2vap_R",
        "colab_type": "code",
        "colab": {
          "base_uri": "https://localhost:8080/",
          "height": 34
        },
        "outputId": "d6881da2-ce26-4f84-8990-aae0e07221dd"
      },
      "source": [
        "t1=(1,2,3,4,5)\n",
        "print(t1, type(t1))"
      ],
      "execution_count": 1,
      "outputs": [
        {
          "output_type": "stream",
          "text": [
            "(1, 2, 3, 4, 5) <class 'tuple'>\n"
          ],
          "name": "stdout"
        }
      ]
    },
    {
      "cell_type": "markdown",
      "metadata": {
        "id": "rGFWsPWja16T",
        "colab_type": "text"
      },
      "source": [
        "2.Program to create a tuple with different data types."
      ]
    },
    {
      "cell_type": "code",
      "metadata": {
        "id": "X1Hnm4CCa2CP",
        "colab_type": "code",
        "colab": {
          "base_uri": "https://localhost:8080/",
          "height": 34
        },
        "outputId": "a76798ef-999e-496f-c82f-eaa31f00c47c"
      },
      "source": [
        "t1 = (1,2.5,\"Rahul\",[\"Hello\",\"Good Day\"])\n",
        "print(t1, type(t1))"
      ],
      "execution_count": 4,
      "outputs": [
        {
          "output_type": "stream",
          "text": [
            "(1, 2.5, 'Rahul', ['Hello', 'Good Day']) <class 'tuple'>\n"
          ],
          "name": "stdout"
        }
      ]
    },
    {
      "cell_type": "markdown",
      "metadata": {
        "id": "k3E6uaaAa2bp",
        "colab_type": "text"
      },
      "source": [
        "3. Program to convert a tuple into a string."
      ]
    },
    {
      "cell_type": "code",
      "metadata": {
        "id": "nla-lp0Ea2hp",
        "colab_type": "code",
        "colab": {
          "base_uri": "https://localhost:8080/",
          "height": 34
        },
        "outputId": "9edd5ccf-a694-4e25-a0af-683dac7d63db"
      },
      "source": [
        "t1 = (\"G\",\"i\",\"t\",\"a\",\"m\")\n",
        "str = \"\".join(t1)\n",
        "print(\"Tuple converted string:\",str)"
      ],
      "execution_count": 6,
      "outputs": [
        {
          "output_type": "stream",
          "text": [
            "Tuple converted string: Gitam\n"
          ],
          "name": "stdout"
        }
      ]
    },
    {
      "cell_type": "markdown",
      "metadata": {
        "id": "afnxCozma2rB",
        "colab_type": "text"
      },
      "source": [
        "4. Program to slice a tuple."
      ]
    },
    {
      "cell_type": "code",
      "metadata": {
        "id": "6G2XUvQOa2yX",
        "colab_type": "code",
        "colab": {
          "base_uri": "https://localhost:8080/",
          "height": 34
        },
        "outputId": "f88e9f9e-1e74-46f2-b75a-c3e5087742a5"
      },
      "source": [
        "t1 = (1,2,3,4,5,6,7,8,9,10)\n",
        "slice=(t1[4:8])\n",
        "print(\"Sliced tuple:\",slice)"
      ],
      "execution_count": 3,
      "outputs": [
        {
          "output_type": "stream",
          "text": [
            "Sliced tuple: (5, 6, 7, 8)\n"
          ],
          "name": "stdout"
        }
      ]
    },
    {
      "cell_type": "markdown",
      "metadata": {
        "id": "rs1cJm9Ma25P",
        "colab_type": "text"
      },
      "source": [
        "5. Program to find the length of a tuple."
      ]
    },
    {
      "cell_type": "code",
      "metadata": {
        "id": "Rx06hFGda2_H",
        "colab_type": "code",
        "colab": {
          "base_uri": "https://localhost:8080/",
          "height": 34
        },
        "outputId": "211be300-ef3f-4399-aca6-2c7083755d11"
      },
      "source": [
        "t1 = (1,2,3,4,5,6,7,8)\n",
        "print(\"Length of the tuple:\",len(t1))"
      ],
      "execution_count": 2,
      "outputs": [
        {
          "output_type": "stream",
          "text": [
            "Length of the tuple: 8\n"
          ],
          "name": "stdout"
        }
      ]
    },
    {
      "cell_type": "markdown",
      "metadata": {
        "id": "dlB53qira3ZM",
        "colab_type": "text"
      },
      "source": [
        "6.Program to convert a tuple into a dictionary."
      ]
    },
    {
      "cell_type": "code",
      "metadata": {
        "id": "gy5xLP-ua3oG",
        "colab_type": "code",
        "colab": {
          "base_uri": "https://localhost:8080/",
          "height": 34
        },
        "outputId": "3c378afc-c6fa-4ffa-b8cf-f55000f4922c"
      },
      "source": [
        "t1 = ((\"one\",1),(\"two\",2),(\"three\",3),(\"four\",4),(\"five\",5))\n",
        "converted_dict = dict(t1)\n",
        "print(\"Converted Dictionary:\",converted_dict)"
      ],
      "execution_count": 5,
      "outputs": [
        {
          "output_type": "stream",
          "text": [
            "Converted Dictionary: {'one': 1, 'two': 2, 'three': 3, 'four': 4, 'five': 5}\n"
          ],
          "name": "stdout"
        }
      ]
    },
    {
      "cell_type": "markdown",
      "metadata": {
        "id": "0vlMxHznnCVZ",
        "colab_type": "text"
      },
      "source": [
        "7. Program to reverse a tuple."
      ]
    },
    {
      "cell_type": "code",
      "metadata": {
        "id": "ccHNc86hnCgz",
        "colab_type": "code",
        "colab": {
          "base_uri": "https://localhost:8080/",
          "height": 34
        },
        "outputId": "2154eb3c-69d0-4171-87de-a2c954d27b39"
      },
      "source": [
        "t1 = (1,2,3,4,5,6,7,8)\n",
        "print(\"Reversed Tuple:\",t1[::-1])"
      ],
      "execution_count": 7,
      "outputs": [
        {
          "output_type": "stream",
          "text": [
            "Reversed Tuple: (8, 7, 6, 5, 4, 3, 2, 1)\n"
          ],
          "name": "stdout"
        }
      ]
    },
    {
      "cell_type": "markdown",
      "metadata": {
        "id": "T9JxfgxMnM0w",
        "colab_type": "text"
      },
      "source": [
        "8. Program to convert a list of tuples into a dictionary."
      ]
    },
    {
      "cell_type": "code",
      "metadata": {
        "id": "pqzjMllmnM-C",
        "colab_type": "code",
        "colab": {
          "base_uri": "https://localhost:8080/",
          "height": 34
        },
        "outputId": "1c3cc0fb-a48e-4638-e08b-809c554a8acf"
      },
      "source": [
        "mylist = [(\"one\",1),(\"two\",2),(\"three\",3),(\"four\",4)]\n",
        "dict_converted = dict(mylist)\n",
        "print(\"Dictionary converted list:\",dict_converted)"
      ],
      "execution_count": 8,
      "outputs": [
        {
          "output_type": "stream",
          "text": [
            "Dictionary converted list: {'one': 1, 'two': 2, 'three': 3, 'four': 4}\n"
          ],
          "name": "stdout"
        }
      ]
    },
    {
      "cell_type": "markdown",
      "metadata": {
        "id": "lSrJA8WtnR1n",
        "colab_type": "text"
      },
      "source": [
        "9.Program to convert a list of tuples into a tuple."
      ]
    },
    {
      "cell_type": "code",
      "metadata": {
        "id": "aj3j8gu7nSAy",
        "colab_type": "code",
        "colab": {
          "base_uri": "https://localhost:8080/",
          "height": 34
        },
        "outputId": "849f7f4d-0b91-4224-feaf-98e1d3284b27"
      },
      "source": [
        "mylist = [\"Hello\",\"Hey\",\"Hi\"]\n",
        "print(\"Tuple converted list:\",tuple(mylist))"
      ],
      "execution_count": 9,
      "outputs": [
        {
          "output_type": "stream",
          "text": [
            "Tuple converted list: ('Hello', 'Hey', 'Hi')\n"
          ],
          "name": "stdout"
        }
      ]
    }
  ]
}